{
 "cells": [
  {
   "cell_type": "code",
   "execution_count": 1,
   "metadata": {},
   "outputs": [],
   "source": [
    "import pyslha"
   ]
  },
  {
   "cell_type": "code",
   "execution_count": 39,
   "metadata": {},
   "outputs": [],
   "source": [
    "sigma_ttbar = 833.9\n",
    "TYPE = 1\n",
    "TANB = 1\n",
    "MHc = 70\n",
    "MA = 30"
   ]
  },
  {
   "cell_type": "code",
   "execution_count": 40,
   "metadata": {},
   "outputs": [],
   "source": [
    "# find branching ratio of t -> Hc b\n",
    "d = pyslha.read(f\"outputs/type{TYPE}/output.tanb{TANB}.{MHc}.{MA}.lha\")\n",
    "top = d.decays[6]\n",
    "Hc = d.decays[37]\n",
    "A = d.decays[36]\n",
    "\n",
    "br_top = 0\n",
    "br_Hc = 0\n",
    "br_A = 0\n",
    "for decay in top.decays:\n",
    "    if not decay.ids == [37, 5]:\n",
    "        continue\n",
    "    br_top = decay.br\n",
    "    \n",
    "for decay in Hc.decays:\n",
    "    if not decay.ids == [24, 36]:\n",
    "        continue\n",
    "    br_Hc = decay.br\n",
    "    \n",
    "for decay in A.decays:\n",
    "    if not decay.ids == [13, -13]:\n",
    "        continue\n",
    "    br_A = decay.br"
   ]
  },
  {
   "cell_type": "code",
   "execution_count": 41,
   "metadata": {},
   "outputs": [
    {
     "name": "stdout",
     "output_type": "stream",
     "text": [
      "0.486519489 0.194252913 0.000229310875\n",
      "0.03614401577249025\n"
     ]
    }
   ],
   "source": [
    "signal = sigma_ttbar * br_top * br_Hc * br_A* 2\n",
    "print(br_top, br_Hc, br_A)\n",
    "print(signal)"
   ]
  },
  {
   "cell_type": "code",
   "execution_count": null,
   "metadata": {},
   "outputs": [],
   "source": []
  }
 ],
 "metadata": {
  "kernelspec": {
   "display_name": "pyg",
   "language": "python",
   "name": "python3"
  },
  "language_info": {
   "codemirror_mode": {
    "name": "ipython",
    "version": 3
   },
   "file_extension": ".py",
   "mimetype": "text/x-python",
   "name": "python",
   "nbconvert_exporter": "python",
   "pygments_lexer": "ipython3",
   "version": "3.11.8"
  }
 },
 "nbformat": 4,
 "nbformat_minor": 2
}
